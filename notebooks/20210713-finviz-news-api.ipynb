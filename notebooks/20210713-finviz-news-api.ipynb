{
 "cells": [
  {
   "cell_type": "markdown",
   "id": "756141e2-de00-4984-a982-8d7f5a233e09",
   "metadata": {},
   "source": [
    "# Parsing financial news headlines from finviz and News API"
   ]
  },
  {
   "cell_type": "code",
   "execution_count": null,
   "id": "8e6c144f-0629-4a35-924d-b904894662a1",
   "metadata": {},
   "outputs": [],
   "source": [
    "import pendulum"
   ]
  },
  {
   "cell_type": "code",
   "execution_count": null,
   "id": "0089990a-ced3-4bb5-89c3-ddfb216e7ef2",
   "metadata": {},
   "outputs": [],
   "source": [
    "s = \"AAPL\"\n",
    "date = pendulum.yesterday(tz=\"UTC\")\n",
    "start_date = date # start date is included\n",
    "end_date = (date + pendulum.duration(days=1)) # end date is excluded"
   ]
  },
  {
   "cell_type": "markdown",
   "id": "634fdc91-57eb-4163-b90b-abe4e4440a79",
   "metadata": {},
   "source": [
    "## finviz"
   ]
  },
  {
   "cell_type": "code",
   "execution_count": null,
   "id": "e7c89467-f8c6-4576-b2ba-94615f9ba167",
   "metadata": {},
   "outputs": [],
   "source": [
    "import finviz\n",
    "import numpy as np\n",
    "import pandas as pd"
   ]
  },
  {
   "cell_type": "code",
   "execution_count": null,
   "id": "30beea2c-1f89-47ea-b3e8-5aeba3fe4f76",
   "metadata": {},
   "outputs": [],
   "source": [
    "news_fv = finviz.get_news(s)\n",
    "news_fv_df = pd.DataFrame(news_fv)\n",
    "news_fv_df.columns = [\"Datetime\", \"Title\", \"URL\", \"Source\"]\n",
    "news_fv_df.insert(0, \"Symbol\", s)\n",
    "news_fv_df.insert(3, \"Description\", pd.NA)\n",
    "news_fv_df.insert(5, \"Author\", pd.NA)\n",
    "news_fv_df = news_fv_df[[\"Symbol\", \"Datetime\", \"Title\", \"Description\", \"Source\", \"Author\",\"URL\"]]\n",
    "news_fv_df[\"Datetime\"] = pd.to_datetime(news_fv_df[\"Datetime\"])\n",
    "news_fv_df[\"Datetime\"] = news_fv_df[\"Datetime\"].dt.tz_localize(\"US/Eastern\")\n",
    "news_fv_df[\"Datetime\"] = news_fv_df[\"Datetime\"].dt.tz_convert(\"UTC\")\n",
    "news_fv_df = news_fv_df.loc[(np.logical_and(start_date <= news_fv_df[\"Datetime\"], news_fv_df[\"Datetime\"] < end_date)), :]\n",
    "news_fv_df.sort_values(by=[\"Datetime\"], inplace=True, ascending=True)\n",
    "news_fv_df.reset_index(inplace=True, drop=True)"
   ]
  },
  {
   "cell_type": "code",
   "execution_count": null,
   "id": "7a066baf-d44a-44d3-9aaf-cd7e9ee5f8e7",
   "metadata": {},
   "outputs": [],
   "source": [
    "news_fv_df.head()"
   ]
  },
  {
   "cell_type": "code",
   "execution_count": null,
   "id": "8934cbed-79c2-4c20-a341-3f0de64ba0ad",
   "metadata": {},
   "outputs": [],
   "source": [
    "news_fv_df.tail()"
   ]
  },
  {
   "cell_type": "code",
   "execution_count": null,
   "id": "70e7ed1e-1b75-42a1-b019-afbde07147f6",
   "metadata": {},
   "outputs": [],
   "source": [
    "news_fv_df.dtypes"
   ]
  },
  {
   "cell_type": "markdown",
   "id": "f7ca94a8-69b6-4c37-9baf-836913002b5d",
   "metadata": {},
   "source": [
    "## News API"
   ]
  },
  {
   "cell_type": "code",
   "execution_count": null,
   "id": "4184fe20-0ebc-4b59-8034-b3b027d6ea42",
   "metadata": {},
   "outputs": [],
   "source": [
    "import os\n",
    "\n",
    "from newsapi import NewsApiClient\n",
    "from dotenv import load_dotenv"
   ]
  },
  {
   "cell_type": "code",
   "execution_count": null,
   "id": "6efecb12-3b71-4b19-bcfc-360457832688",
   "metadata": {},
   "outputs": [],
   "source": [
    "load_dotenv()\n",
    "api = NewsApiClient(api_key=os.environ.get(\"NEWS_API_TOKEN\"))"
   ]
  },
  {
   "cell_type": "code",
   "execution_count": null,
   "id": "42fe595e-e691-4e48-a1ea-8d9cca4d4e3e",
   "metadata": {},
   "outputs": [],
   "source": [
    "news_api = api.get_everything(q=s, from_param=start_date.to_date_string(),\n",
    "                              to=(end_date - pendulum.duration(days=1)).to_date_string(), # to date is included in resp -> subtract one day\n",
    "                              language=\"en\")"
   ]
  },
  {
   "cell_type": "code",
   "execution_count": null,
   "id": "f3b2eb1f-a696-43be-b540-2c3120177f12",
   "metadata": {},
   "outputs": [],
   "source": [
    "news_api_list = []\n",
    "for a in news_api[\"articles\"]:\n",
    "    source = a[\"source\"][\"name\"]\n",
    "    author = a[\"author\"]\n",
    "    title = a[\"title\"]\n",
    "    description = a[\"description\"]\n",
    "    url = a[\"url\"]\n",
    "    published = a[\"publishedAt\"]\n",
    "    news_api_list.append((s, published, title, description, source, author, url))\n",
    "news_api_df = pd.DataFrame(news_api_list,\n",
    "                           columns=[\"Symbol\", \"Datetime\", \"Title\", \"Description\", \"Source\", \"Author\", \"URL\"])\n",
    "news_api_df[\"Datetime\"] = pd.to_datetime(news_api_df[\"Datetime\"])\n",
    "news_api_df.sort_values(by=[\"Datetime\"], inplace=True, ascending=True)\n",
    "news_api_df.reset_index(inplace=True, drop=True)"
   ]
  },
  {
   "cell_type": "code",
   "execution_count": null,
   "id": "934fcdc4-25d9-464e-83db-7d2624d5d9d1",
   "metadata": {},
   "outputs": [],
   "source": [
    "news_api_df.head()"
   ]
  },
  {
   "cell_type": "code",
   "execution_count": null,
   "id": "554e81f9-9373-43b4-9dc6-15f8f46207d6",
   "metadata": {},
   "outputs": [],
   "source": [
    "news_api_df.tail()"
   ]
  },
  {
   "cell_type": "code",
   "execution_count": null,
   "id": "b85c479e-2117-43fd-a9df-a8dd589a88c6",
   "metadata": {},
   "outputs": [],
   "source": [
    "news_api_df.dtypes == news_fv_df.dtypes"
   ]
  }
 ],
 "metadata": {
  "kernelspec": {
   "display_name": "Python 3 (ipykernel)",
   "language": "python",
   "name": "python3"
  },
  "language_info": {
   "codemirror_mode": {
    "name": "ipython",
    "version": 3
   },
   "file_extension": ".py",
   "mimetype": "text/x-python",
   "name": "python",
   "nbconvert_exporter": "python",
   "pygments_lexer": "ipython3",
   "version": "3.9.4"
  }
 },
 "nbformat": 4,
 "nbformat_minor": 5
}
