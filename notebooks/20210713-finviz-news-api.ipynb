{
 "cells": [
  {
   "cell_type": "markdown",
   "id": "756141e2-de00-4984-a982-8d7f5a233e09",
   "metadata": {},
   "source": [
    "# Parsing financial news headlines from finviz and News API"
   ]
  },
  {
   "cell_type": "markdown",
   "id": "634fdc91-57eb-4163-b90b-abe4e4440a79",
   "metadata": {},
   "source": [
    "## finviz"
   ]
  },
  {
   "cell_type": "code",
   "execution_count": null,
   "id": "e7c89467-f8c6-4576-b2ba-94615f9ba167",
   "metadata": {},
   "outputs": [],
   "source": [
    "import finviz\n",
    "import pandas as pd"
   ]
  },
  {
   "cell_type": "code",
   "execution_count": null,
   "id": "8f95fc2e-6495-432c-bd8b-dac16031339a",
   "metadata": {},
   "outputs": [],
   "source": [
    "s = \"AAPL\"\n",
    "news = finviz.get_news(s)"
   ]
  },
  {
   "cell_type": "code",
   "execution_count": null,
   "id": "6ce7c9cf-fe80-469b-9333-c943a3741cbc",
   "metadata": {},
   "outputs": [],
   "source": [
    "news_df = pd.DataFrame(news)\n",
    "news_df.columns = [\"Datetime\", \"Headline\", \"URL\", \"Source\"]\n",
    "news_df.insert(0, \"Symbol\", s)\n",
    "news_df = news_df[[\"Symbol\", \"Datetime\", \"Headline\", \"Source\", \"URL\"]]\n",
    "news_df[\"Datetime\"] = pd.to_datetime(news_df[\"Datetime\"])\n",
    "news_df[\"Datetime\"] = news_df[\"Datetime\"].dt.tz_localize(\"US/Eastern\")\n",
    "news_df[\"Datetime\"] = news_df[\"Datetime\"].dt.tz_convert(\"UTC\")"
   ]
  },
  {
   "cell_type": "code",
   "execution_count": null,
   "id": "8934cbed-79c2-4c20-a341-3f0de64ba0ad",
   "metadata": {},
   "outputs": [],
   "source": [
    "news_df.head()"
   ]
  },
  {
   "cell_type": "code",
   "execution_count": null,
   "id": "70e7ed1e-1b75-42a1-b019-afbde07147f6",
   "metadata": {},
   "outputs": [],
   "source": [
    "news_df.dtypes"
   ]
  }
 ],
 "metadata": {
  "kernelspec": {
   "display_name": "Python 3 (ipykernel)",
   "language": "python",
   "name": "python3"
  },
  "language_info": {
   "codemirror_mode": {
    "name": "ipython",
    "version": 3
   },
   "file_extension": ".py",
   "mimetype": "text/x-python",
   "name": "python",
   "nbconvert_exporter": "python",
   "pygments_lexer": "ipython3",
   "version": "3.9.4"
  }
 },
 "nbformat": 4,
 "nbformat_minor": 5
}
