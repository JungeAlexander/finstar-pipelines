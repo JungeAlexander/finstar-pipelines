{
 "cells": [
  {
   "cell_type": "markdown",
   "id": "756141e2-de00-4984-a982-8d7f5a233e09",
   "metadata": {},
   "source": [
    "# Parsing financial news headlines from finviz\n",
    "\n",
    "Inspiration: https://towardsdatascience.com/stock-news-sentiment-analysis-with-python-193d4b4378d4"
   ]
  },
  {
   "cell_type": "code",
   "execution_count": null,
   "id": "e7c89467-f8c6-4576-b2ba-94615f9ba167",
   "metadata": {},
   "outputs": [],
   "source": [
    "import urllib.request\n",
    "\n",
    "from bs4 import BeautifulSoup"
   ]
  },
  {
   "cell_type": "code",
   "execution_count": null,
   "id": "8f95fc2e-6495-432c-bd8b-dac16031339a",
   "metadata": {},
   "outputs": [],
   "source": [
    "symbols = ['AAPL', 'TSLA', 'AMZN']\n",
    "finwiz_url = 'https://finviz.com/quote.ashx?t='"
   ]
  },
  {
   "cell_type": "code",
   "execution_count": null,
   "id": "66ab9897-d030-453b-8d03-dd82c9d3c643",
   "metadata": {},
   "outputs": [],
   "source": [
    "symbol_to_news_table = {}\n",
    "for s in symbols:\n",
    "    s_url = finwiz_url + s\n",
    "    r = urllib.request.Request(url=s_url, headers={'user-agent': 'my-app/0.0.1'}) \n",
    "    s_url_open = urllib.request.urlopen(r) \n",
    "    html = BeautifulSoup(s_url_open, features=\"lxml\")\n",
    "    news_table = html.find(id='news-table')\n",
    "    symbol_to_news_table[s] = news_table"
   ]
  },
  {
   "cell_type": "code",
   "execution_count": null,
   "id": "af200812-f523-46df-9dbb-28500b02224b",
   "metadata": {},
   "outputs": [],
   "source": [
    "symbol_to_news_table"
   ]
  }
 ],
 "metadata": {
  "kernelspec": {
   "display_name": "Python 3 (ipykernel)",
   "language": "python",
   "name": "python3"
  },
  "language_info": {
   "codemirror_mode": {
    "name": "ipython",
    "version": 3
   },
   "file_extension": ".py",
   "mimetype": "text/x-python",
   "name": "python",
   "nbconvert_exporter": "python",
   "pygments_lexer": "ipython3",
   "version": "3.9.4"
  }
 },
 "nbformat": 4,
 "nbformat_minor": 5
}
