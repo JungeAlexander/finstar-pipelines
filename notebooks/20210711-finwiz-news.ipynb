{
 "cells": [
  {
   "cell_type": "markdown",
   "id": "756141e2-de00-4984-a982-8d7f5a233e09",
   "metadata": {},
   "source": [
    "# Parsing financial news headlines from finviz and News API"
   ]
  },
  {
   "cell_type": "markdown",
   "id": "634fdc91-57eb-4163-b90b-abe4e4440a79",
   "metadata": {},
   "source": [
    "## finviz"
   ]
  },
  {
   "cell_type": "code",
   "execution_count": null,
   "id": "e7c89467-f8c6-4576-b2ba-94615f9ba167",
   "metadata": {},
   "outputs": [],
   "source": [
    "import finviz"
   ]
  },
  {
   "cell_type": "code",
   "execution_count": null,
   "id": "8f95fc2e-6495-432c-bd8b-dac16031339a",
   "metadata": {},
   "outputs": [],
   "source": [
    "news = finviz.get_news(\"AAPL\")"
   ]
  }
 ],
 "metadata": {
  "kernelspec": {
   "display_name": "Python 3 (ipykernel)",
   "language": "python",
   "name": "python3"
  },
  "language_info": {
   "codemirror_mode": {
    "name": "ipython",
    "version": 3
   },
   "file_extension": ".py",
   "mimetype": "text/x-python",
   "name": "python",
   "nbconvert_exporter": "python",
   "pygments_lexer": "ipython3",
   "version": "3.9.4"
  }
 },
 "nbformat": 4,
 "nbformat_minor": 5
}
