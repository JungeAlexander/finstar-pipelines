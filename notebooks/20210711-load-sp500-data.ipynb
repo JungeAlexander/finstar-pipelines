{
 "cells": [
  {
   "cell_type": "markdown",
   "id": "6d1ed6f9-370e-4c1e-b630-5e788fd32a1d",
   "metadata": {},
   "source": [
    "# Loading S&P 500 data prduced by Airflow DAG `../dags/sp500.py`"
   ]
  },
  {
   "cell_type": "code",
   "execution_count": null,
   "id": "c9e71c88-6c34-414b-a9bd-79a12ccc4c4f",
   "metadata": {},
   "outputs": [],
   "source": [
    "import pandas as pd\n",
    "from pandas_profiling import ProfileReport"
   ]
  },
  {
   "cell_type": "markdown",
   "id": "2ba42e40-cec7-4e1e-b7a4-ecf24c5b6b02",
   "metadata": {},
   "source": [
    "## Ticker data"
   ]
  },
  {
   "cell_type": "code",
   "execution_count": null,
   "id": "952e97a2-8035-467b-b11e-91a4376694b6",
   "metadata": {},
   "outputs": [],
   "source": [
    "# ticker_df = pd.read_parquet(\"file:../data/sp500/ticker_data/\") #TODO how to read whole dir?"
   ]
  },
  {
   "cell_type": "code",
   "execution_count": null,
   "id": "fc5dbf1b-3d38-4ad1-aa46-f6104cdb67a9",
   "metadata": {},
   "outputs": [],
   "source": [
    "ticker_df = pd.read_parquet(\"file:../data/sp500/ticker_data/Symbol=AAPL/2021-08-12_2021-08-12.snappy.parquet\")"
   ]
  },
  {
   "cell_type": "code",
   "execution_count": null,
   "id": "fd3acb56-065c-433b-a6b9-e01e0de17ff2",
   "metadata": {},
   "outputs": [],
   "source": [
    "ticker_df"
   ]
  },
  {
   "cell_type": "code",
   "execution_count": null,
   "id": "54d785b6-1f6c-4313-9443-3a82bf444466",
   "metadata": {},
   "outputs": [],
   "source": [
    "# ticker_profile = ProfileReport(ticker_df, title=\"Pandas Profiling Report\", explorative=True)\n",
    "# ticker_profile.to_notebook_iframe()"
   ]
  },
  {
   "cell_type": "markdown",
   "id": "f3d52bca-8151-4aeb-9509-60f4ab784e6d",
   "metadata": {},
   "source": [
    "## finviz news"
   ]
  },
  {
   "cell_type": "code",
   "execution_count": null,
   "id": "423fb271-51ef-42d0-b420-4616d9d85f9f",
   "metadata": {},
   "outputs": [],
   "source": [
    "finviz_df = pd.read_parquet(\"../data/sp500/news/finviz/Symbol=AAPL/2021-08-12_2021-08-12.snappy.parquet\")"
   ]
  },
  {
   "cell_type": "code",
   "execution_count": null,
   "id": "e3c96fa4-1d9b-47c6-9eef-840ca26f73e1",
   "metadata": {},
   "outputs": [],
   "source": [
    "finviz_df"
   ]
  },
  {
   "cell_type": "code",
   "execution_count": null,
   "id": "0359b43e-8ca7-45ba-ba0c-8fcb5d339502",
   "metadata": {},
   "outputs": [],
   "source": [
    "# finviz_profile = ProfileReport(finviz_df, title=\"Pandas Profiling Report\", explorative=True)\n",
    "# finviz_profile.to_notebook_iframe()"
   ]
  },
  {
   "cell_type": "markdown",
   "id": "572d95d3-a5cc-41ec-918f-721b7a6b000c",
   "metadata": {},
   "source": [
    "## NewsAPI news"
   ]
  },
  {
   "cell_type": "code",
   "execution_count": null,
   "id": "38cd5684-6c44-46a2-a045-408c29b8a78c",
   "metadata": {},
   "outputs": [],
   "source": [
    "df = pd.read_parquet(\"../data/sp500/news/newsapi/Symbol=AAPL/2021-07-08_2021-07-15.snappy.parquet\")"
   ]
  },
  {
   "cell_type": "code",
   "execution_count": null,
   "id": "b3550a3d-7475-4d0a-90df-8ee0ce230b93",
   "metadata": {},
   "outputs": [],
   "source": [
    "df"
   ]
  },
  {
   "cell_type": "code",
   "execution_count": null,
   "id": "eb1f9720-bdb6-470c-a996-d6b52bdaf450",
   "metadata": {},
   "outputs": [],
   "source": [
    "df.dtypes"
   ]
  }
 ],
 "metadata": {
  "kernelspec": {
   "display_name": "Python 3 (ipykernel)",
   "language": "python",
   "name": "python3"
  },
  "language_info": {
   "codemirror_mode": {
    "name": "ipython",
    "version": 3
   },
   "file_extension": ".py",
   "mimetype": "text/x-python",
   "name": "python",
   "nbconvert_exporter": "python",
   "pygments_lexer": "ipython3",
   "version": "3.9.4"
  }
 },
 "nbformat": 4,
 "nbformat_minor": 5
}
