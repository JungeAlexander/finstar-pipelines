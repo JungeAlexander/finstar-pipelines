{
 "cells": [
  {
   "cell_type": "markdown",
   "id": "6d1ed6f9-370e-4c1e-b630-5e788fd32a1d",
   "metadata": {},
   "source": [
    "# Loading S&P 500 ticker data prduced by Airflow DAG\n",
    "\n",
    "Corresponding DAG: ../dags/sp500.py"
   ]
  },
  {
   "cell_type": "code",
   "execution_count": null,
   "id": "53c16094-ebe2-40bc-819d-920ae67c3c86",
   "metadata": {},
   "outputs": [],
   "source": [
    "import pandas as pd"
   ]
  },
  {
   "cell_type": "code",
   "execution_count": null,
   "id": "952e97a2-8035-467b-b11e-91a4376694b6",
   "metadata": {},
   "outputs": [],
   "source": [
    "df = pd.read_parquet(\"../data/sp500/ticker_data/Symbol=AAPL/2021-07-06.snappy.parquet\")"
   ]
  },
  {
   "cell_type": "code",
   "execution_count": null,
   "id": "fd3acb56-065c-433b-a6b9-e01e0de17ff2",
   "metadata": {},
   "outputs": [],
   "source": [
    "df"
   ]
  },
  {
   "cell_type": "code",
   "execution_count": null,
   "id": "046a1abc-723c-4649-9901-ae1f5088a987",
   "metadata": {},
   "outputs": [],
   "source": [
    "df.dtypes"
   ]
  }
 ],
 "metadata": {
  "kernelspec": {
   "display_name": "Python 3 (ipykernel)",
   "language": "python",
   "name": "python3"
  },
  "language_info": {
   "codemirror_mode": {
    "name": "ipython",
    "version": 3
   },
   "file_extension": ".py",
   "mimetype": "text/x-python",
   "name": "python",
   "nbconvert_exporter": "python",
   "pygments_lexer": "ipython3",
   "version": "3.9.4"
  }
 },
 "nbformat": 4,
 "nbformat_minor": 5
}
